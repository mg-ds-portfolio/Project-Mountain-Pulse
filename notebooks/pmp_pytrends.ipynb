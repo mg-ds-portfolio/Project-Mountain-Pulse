{
 "cells": [
  {
   "cell_type": "code",
   "execution_count": 12,
   "id": "3177721e",
   "metadata": {},
   "outputs": [
    {
     "data": {
      "text/plain": [
       "<function matplotlib.pyplot.tight_layout(*, pad: 'float' = 1.08, h_pad: 'float | None' = None, w_pad: 'float | None' = None, rect: 'tuple[float, float, float, float] | None' = None) -> 'None'>"
      ]
     },
     "execution_count": 12,
     "metadata": {},
     "output_type": "execute_result"
    }
   ],
   "source": [
    "from pytrends.request import TrendReq\n",
    "pytrends = TrendReq(hl='en-US', tz=360)         # Connect to Google Trends\n",
    "\n",
    "import time         # To allow for sleep between requests\n",
    "from datetime import date, timedelta    # To handle date ranges\n",
    "\n",
    "import pandas as pd\n",
    "pd.set_option('display.max_columns', None)          # Display all columns in a df\n",
    "\n",
    "import matplotlib.pyplot as plt\n",
    "plt.style.use(\"seaborn-v0_8\")           # Set plot style to Seaborn v08\n",
    "plt.tight_layout                        # Set layout to tight, minimizing overlap"
   ]
  },
  {
   "cell_type": "markdown",
   "id": "4e5ba9e0",
   "metadata": {},
   "source": [
    "## 1. Connect to Google"
   ]
  },
  {
   "cell_type": "code",
   "execution_count": null,
   "id": "e87ededc",
   "metadata": {},
   "outputs": [],
   "source": []
  },
  {
   "cell_type": "code",
   "execution_count": null,
   "id": "264a44a2",
   "metadata": {},
   "outputs": [],
   "source": [
    "pytrends = TrendReq(hl='en-US', tz=360)"
   ]
  },
  {
   "cell_type": "markdown",
   "id": "0079ab77",
   "metadata": {},
   "source": [
    "## 2. Build a payload\n",
    "\n",
    "Building a payload Sets up the query you're about to make by telling Pytrends what keywords and parameters you’re interested in:\n",
    "- keyword list (kw_list)\n",
    "- categories (cat)\n",
    "- timeframe (timeframe)\n",
    "- geography (geo)\n",
    "- google properties, images, news, youtube etc. (gprop)"
   ]
  },
  {
   "cell_type": "code",
   "execution_count": null,
   "id": "7ddc9957",
   "metadata": {},
   "outputs": [],
   "source": [
    "keywords = [\"lake arrowhead\"]\n",
    "\n",
    "pytrends.build_payload(keywords, cat=0, timeframe='today 5-y', geo='US-CA', gprop='')"
   ]
  },
  {
   "cell_type": "code",
   "execution_count": null,
   "id": "f0869924",
   "metadata": {},
   "outputs": [],
   "source": [
    "start_date = datetime.date(2020,1,1)\n",
    "today = date.today()\n",
    "\n",
    "total_day_range = (today - start_date).days\n",
    "\n",
    "chunk_step_days = 89\n",
    "\n",
    "num_data_chunks = total_day_range // chunk_step_days\n",
    "date_offsets_list = [i * chunk_step_days for i in range (0, num_data_chunks +1)]\n",
    "\n",
    "date_ranges = [\n",
    "    (start_date + timedelta(days=i), \n",
    "     min(start_date + timedelta(days=i + chunk_step_days), today))\n",
    "     for i in date_offsets_list]\n"
   ]
  },
  {
   "cell_type": "code",
   "execution_count": null,
   "id": "2ea0d738",
   "metadata": {},
   "outputs": [],
   "source": [
    "# Function to get iot data\n",
    "def get_iot_data(timeframe, keyword):\n",
    "    pytrends.build_payload(kw_list = keyword, cat=0, timeframe=timeframe, geo='US-CA', gprop='')        # Build payload\n",
    "    iot_df = pytrends.interest_over_time()                                                              # Collect iot data\n",
    "    return iot_df\n",
    "\n",
    "# create a dictionary where keys are keywords and values are lists of dataframes.\n",
    "# run code to get data for timeframe 1, keyword 1\n",
    "# add df to kw1 results list\n",
    "# loop over timeframes, add dfs to list of df for kw1\n",
    "# loop over list of keywords \n",
    "\n",
    "location = \"lake arrowhead\"         # Select location\n",
    "kw_list = [                         # List of \"keywords\" to search\n",
    "    f'{location}', \n",
    "    f'things to do in {location}',\n",
    "    f'{location} cabin rental',\n",
    "    f'{location} airbnb',\n",
    "    f'{location} weather',\n",
    "    f'{location} restaurants',\n",
    "    f'{location} events',\n",
    "    f'{location} shopping',\n",
    "]\n",
    "\n",
    "results = {kw:[] for kw in kw_list}         # Create dictionary where keys are keywords and values are lists for dataframes\n",
    "\n",
    "for "
   ]
  },
  {
   "cell_type": "code",
   "execution_count": null,
   "id": "e5475eac",
   "metadata": {},
   "outputs": [],
   "source": []
  }
 ],
 "metadata": {
  "kernelspec": {
   "display_name": "venv_mountain_pulse",
   "language": "python",
   "name": "venv_mountain_pulse"
  },
  "language_info": {
   "codemirror_mode": {
    "name": "ipython",
    "version": 3
   },
   "file_extension": ".py",
   "mimetype": "text/x-python",
   "name": "python",
   "nbconvert_exporter": "python",
   "pygments_lexer": "ipython3",
   "version": "3.12.3"
  }
 },
 "nbformat": 4,
 "nbformat_minor": 5
}
